{
 "cells": [
  {
   "cell_type": "code",
   "execution_count": null,
   "id": "78633b28-2aa0-49b9-a7f0-aec5d58000c1",
   "metadata": {},
   "outputs": [
    {
     "name": "stdout",
     "output_type": "stream",
     "text": [
      "Error\n",
      "Error\n"
     ]
    }
   ],
   "source": [
    "import sys\n",
    "import datetime\n",
    "from tkinter import *\n",
    "\n",
    "def createtask():\n",
    "    task_dict = {}\n",
    "\n",
    "    task_dict[\"task\"] = thetask_entry.get()\n",
    "    task_dict[\"Year\"] = yearentry.get()\n",
    "    task_dict[\"Month\"] = monthentry.get()\n",
    "    task_dict[\"Day\"] = dayentry.get()\n",
    "    task_dict[\"Time\"] = timeentry.get()\n",
    "\n",
    "\n",
    "    task_date = datetime.datetime(int(task_dict.get(\"Year\")), int(task_dict.get(\"Month\")), int(task_dict.get(\"Day\")), int(task_dict.get(\"Time\")) )\n",
    "    present_date = datetime.datetime.now()\n",
    "\n",
    "    if task_date < present_date:\n",
    "        print(\"Error\")\n",
    "    else:\n",
    "        with open(\"Tasks.txt\", \"a\") as s:\n",
    "            sys.stdout = s\n",
    "            print(f\"task: {task_dict.get(\"task\")}\\n Year: {task_date.Year} \\n Month: {task_date.Month}\\n Day: {task_date.Day}\\n Hour: {task_date.Time}\")\n",
    "\n",
    "\n",
    "\n",
    "\n",
    "from tkinter import *\n",
    "task = Tk()\n",
    "\n",
    "    \n",
    "thetask_label = Label(task, text = \"NAME OF TASK:\")\n",
    "thetask_label.grid(row=0, column=0)\n",
    "thetask_entry = Entry(task)\n",
    "thetask_entry.grid(row=1, column=0)\n",
    "\n",
    "yearlabel = Label(task, text = \"YEAR:\")\n",
    "yearlabel.grid(row=3,column=0)\n",
    "yearentry = Entry(task)\n",
    "yearentry.grid(row=4, column=0)\n",
    "\n",
    "monthlabel = Label(task, text = \"MONTH:\")\n",
    "monthlabel.grid(row=6, column=0)\n",
    "monthentry = Entry(task)\n",
    "monthentry.grid(row=7, column=0)\n",
    "\n",
    "daylabel = Label(task, text = \"DAY:\")\n",
    "daylabel.grid(row=9, column=0)\n",
    "dayentry = Entry(task)\n",
    "dayentry.grid(row=10, column=0)\n",
    "\n",
    "timelabel = Label(task, text = \"HOUR OF THE DAY:\")\n",
    "timelabel.grid(row=12, column=0)\n",
    "timeentry = Entry(task)\n",
    "timeentry.grid(row=13, column=0)\n",
    "\n",
    "createbutton = Button(task, text = \"CREATE TASK\", command=createtask)\n",
    "createbutton.grid(row=15, column=0, columnspan=2)\n",
    "\n",
    "\n",
    "task.mainloop()    "
   ]
  },
  {
   "cell_type": "markdown",
   "id": "22e5a71f-9eda-4b86-88a7-d44ec47e89f6",
   "metadata": {},
   "source": [
    "## Note\n",
    "\n",
    "the grid geometry manager organises the widgets in a tab form. we specify the rows and columns in the options\n",
    "opt that can be passed inside the grid method\n",
    "1. column: the col no in which the widget is to be placed, the leftmost column is represented by 0\n",
    "sticky letters- NorthEastSouthWest\n",
    "default for anchor is NY(upper left)\n",
    "def for border type refers to ignore the parents inside the border\n",
    "relheight and relwidth is represented as the float btw 0.0 and 1.0 that is the offset in the horizontal and vertical verification"
   ]
  },
  {
   "cell_type": "markdown",
   "id": "007e3efc-be64-417c-bf86-99d8552011c7",
   "metadata": {},
   "source": [
    "## Note\n",
    "\n",
    "import datetime\n",
    "task_name = input(\"task?\")\n",
    "task_date = input(\"date?\")\n",
    "taskdict = {\n",
    "     \"task\" : task_name,\n",
    "     \"date\" : task_date\n",
    "}\n",
    "\n",
    "#task_date = taskdict.get(\"date\")\n",
    "changed_date = datetime.datetime.strptime(task_date, \"%Y-%m-%d\")\n",
    "\n",
    "today_date = datetime.datetime.now()\n",
    "\n",
    "if changed_date > today_date:\n",
    "    print(\"You have passed the Deadline!!!\")\n",
    "else:\n",
    "    pass"
   ]
  },
  {
   "cell_type": "code",
   "execution_count": null,
   "id": "b2b178d4-08a7-4c56-8388-231426058a6d",
   "metadata": {},
   "outputs": [],
   "source": []
  }
 ],
 "metadata": {
  "kernelspec": {
   "display_name": "Python 3 (ipykernel)",
   "language": "python",
   "name": "python3"
  },
  "language_info": {
   "codemirror_mode": {
    "name": "ipython",
    "version": 3
   },
   "file_extension": ".py",
   "mimetype": "text/x-python",
   "name": "python",
   "nbconvert_exporter": "python",
   "pygments_lexer": "ipython3",
   "version": "3.12.4"
  }
 },
 "nbformat": 4,
 "nbformat_minor": 5
}
